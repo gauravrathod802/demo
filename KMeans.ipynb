{
 "cells": [
  {
   "cell_type": "code",
   "execution_count": 1,
   "metadata": {},
   "outputs": [],
   "source": [
    "import numpy as np # linear algebra\n",
    "import pandas as pd # data processing, "
   ]
  },
  {
   "cell_type": "code",
   "execution_count": 2,
   "metadata": {},
   "outputs": [
    {
     "name": "stdout",
     "output_type": "stream",
     "text": [
      "WARNING *** OLE2 inconsistency: SSCS size is 0 but SSAT size is non-zero\n"
     ]
    }
   ],
   "source": [
    "crime=pd.read_excel(\"./CyberCrimeStateWise.xls\")\n",
    "Cybercrime=pd.read_csv(\"./Cyber crime2019.csv\")\n"
   ]
  },
  {
   "attachments": {},
   "cell_type": "markdown",
   "metadata": {},
   "source": [
    "**Algorithm: K-means clustering**"
   ]
  },
  {
   "cell_type": "code",
   "execution_count": 4,
   "metadata": {},
   "outputs": [],
   "source": [
    "\n",
    "from sklearn.cluster import KMeans\n",
    "import matplotlib.pyplot as plt\n",
    "%matplotlib inline\n",
    "from sklearn import preprocessing\n",
    "\n",
    "import seaborn as sns\n",
    "import pandas.util.testing as tm\n"
   ]
  },
  {
   "cell_type": "code",
   "execution_count": 5,
   "metadata": {},
   "outputs": [
    {
     "name": "stdout",
     "output_type": "stream",
     "text": [
      "                S. No           Category           State/UT      2016  \\\n",
      "0                   1              State     Andhra Pradesh -0.123229   \n",
      "1                   2              State  Arunachal Pradesh -0.350754   \n",
      "2                   3              State              Assam -0.093487   \n",
      "3                   4              State              Bihar -0.237363   \n",
      "4                   5              State       Chhattisgarh -0.318781   \n",
      "5                   6              State                Goa -0.340716   \n",
      "6                   7              State            Gujarat -0.217659   \n",
      "7                   8              State            Haryana -0.203160   \n",
      "8                   9              State   Himachal Pradesh -0.340716   \n",
      "9                  10              State    Jammu & Kashmir -0.341831   \n",
      "10                 11              State          Jharkhand -0.255952   \n",
      "11                 12              State          Karnataka  0.057081   \n",
      "12                 13              State             Kerala -0.247029   \n",
      "13                 14              State     Madhya Pradesh -0.256323   \n",
      "14                 15              State        Maharashtra  0.532579   \n",
      "15                 16              State            Manipur -0.348151   \n",
      "16                 17              State          Meghalaya -0.337742   \n",
      "17                 18              State            Mizoram -0.351869   \n",
      "18                 19              State           Nagaland -0.351497   \n",
      "19                 20              State             Odisha -0.234389   \n",
      "20                 21              State             Punjab -0.314320   \n",
      "21                 22              State          Rajasthan -0.002402   \n",
      "22                 23              State             Sikkim -0.351869   \n",
      "23                 24              State         Tamil Nadu -0.298705   \n",
      "24                 25              State          Telangana -0.131779   \n",
      "25                 26              State            Tripura -0.349267   \n",
      "26                 27              State      Uttar Pradesh  0.628869   \n",
      "27                 28              State        Uttarakhand -0.329191   \n",
      "28                 29              State        West Bengal -0.174533   \n",
      "29              State              State     Total State(s)  4.178559   \n",
      "30                 30    Union Territory      A & N Islands -0.351125   \n",
      "31                 31    Union Territory         Chandigarh -0.342575   \n",
      "32                 32    Union Territory         D&N Haveli -0.351869   \n",
      "33                 33    Union Territory        Daman & Diu -0.352241   \n",
      "34                 34    Union Territory           Delhi UT -0.315807   \n",
      "35                 35    Union Territory        Lakshadweep -0.352241   \n",
      "36                 36    Union Territory         Puducherry -0.351497   \n",
      "37    Union Territory    Union Territory        Total UT(s) -0.303910   \n",
      "38  Total (All India)  Total (All India)  Total (All India)  4.226889   \n",
      "\n",
      "        2017      2018  Percentage Share of State/UT (2018)  \\\n",
      "0  -0.156304 -0.148491                            -0.149737   \n",
      "1  -0.351260 -0.348929                            -0.350008   \n",
      "2  -0.116684 -0.012360                            -0.013188   \n",
      "3  -0.260700 -0.287628                            -0.286285   \n",
      "4  -0.315623 -0.326880                            -0.327250   \n",
      "5  -0.348744 -0.345254                            -0.345456   \n",
      "6  -0.255459 -0.232842                            -0.231666   \n",
      "7  -0.245816 -0.280279                            -0.281734   \n",
      "8  -0.339730 -0.338573                            -0.336353   \n",
      "9  -0.338263 -0.337905                            -0.336353   \n",
      "10 -0.200536 -0.194759                            -0.195253   \n",
      "11  0.313897  0.625199                             0.624039   \n",
      "12 -0.284388 -0.293307                            -0.295389   \n",
      "13 -0.248751 -0.226495                            -0.227114   \n",
      "14  0.404039  0.236349                             0.237151   \n",
      "15 -0.335957 -0.345254                            -0.345456   \n",
      "16 -0.343294 -0.337738                            -0.336353   \n",
      "17 -0.349373 -0.349096                            -0.350008   \n",
      "18 -0.351470 -0.349764                            -0.350008   \n",
      "19 -0.178734 -0.209290                            -0.208908   \n",
      "20 -0.314575 -0.310177                            -0.309044   \n",
      "21 -0.078112 -0.165695                            -0.163392   \n",
      "22 -0.351260 -0.349931                            -0.350008   \n",
      "23 -0.303674 -0.300824                            -0.299940   \n",
      "24 -0.098026 -0.148825                            -0.149737   \n",
      "25 -0.350002 -0.346757                            -0.345456   \n",
      "26  0.690603  0.698859                             0.696865   \n",
      "27 -0.325476 -0.321535                            -0.322698   \n",
      "28 -0.232400 -0.294142                            -0.295389   \n",
      "29  4.175081  4.160418                             4.160650   \n",
      "30 -0.350841 -0.348929                            -0.350008   \n",
      "31 -0.344762 -0.345087                            -0.345456   \n",
      "32 -0.351260 -0.350098                            -0.350008   \n",
      "33 -0.351470 -0.350098                            -0.350008   \n",
      "34 -0.317510 -0.318529                            -0.318147   \n",
      "35 -0.351470 -0.349430                            -0.350008   \n",
      "36 -0.350422 -0.347759                            -0.345456   \n",
      "37 -0.308915 -0.309342                            -0.309044   \n",
      "38  4.217636  4.201174                             4.201614   \n",
      "\n",
      "    Mid-Year Projected Population (in Lakhs) (2018)+  \\\n",
      "0                                          -0.174704   \n",
      "1                                          -0.352115   \n",
      "2                                          -0.237854   \n",
      "3                                           0.058030   \n",
      "4                                          -0.257406   \n",
      "5                                          -0.351974   \n",
      "6                                          -0.121031   \n",
      "7                                          -0.257652   \n",
      "8                                          -0.331825   \n",
      "9                                          -0.310202   \n",
      "10                                         -0.227288   \n",
      "11                                         -0.127595   \n",
      "12                                         -0.234484   \n",
      "13                                         -0.071360   \n",
      "14                                          0.068771   \n",
      "15                                         -0.346533   \n",
      "16                                         -0.346112   \n",
      "17                                         -0.353203   \n",
      "18                                         -0.349868   \n",
      "19                                         -0.204471   \n",
      "20                                         -0.253089   \n",
      "21                                         -0.088490   \n",
      "22                                         -0.355028   \n",
      "23                                         -0.092457   \n",
      "24                                         -0.227358   \n",
      "25                                         -0.343444   \n",
      "26                                          0.425454   \n",
      "27                                         -0.318521   \n",
      "28                                         -0.018600   \n",
      "29                                          4.205320   \n",
      "30                                         -0.355941   \n",
      "31                                         -0.353238   \n",
      "32                                         -0.355485   \n",
      "33                                         -0.355941   \n",
      "34                                         -0.288683   \n",
      "35                                         -0.357099   \n",
      "36                                         -0.352150   \n",
      "37                                         -0.274502   \n",
      "38                                          4.288128   \n",
      "\n",
      "    Rate of Total Cyber Crimes (2018)++  \n",
      "0                              0.341341  \n",
      "1                             -0.665471  \n",
      "2                              2.354965  \n",
      "3                             -0.777339  \n",
      "4                             -0.665471  \n",
      "5                              0.117605  \n",
      "6                             -0.385801  \n",
      "7                             -0.106131  \n",
      "8                             -0.441735  \n",
      "9                             -0.665471  \n",
      "10                             0.453209  \n",
      "11                             4.032985  \n",
      "12                            -0.385801  \n",
      "13                            -0.441735  \n",
      "14                             0.676945  \n",
      "15                            -0.441735  \n",
      "16                             0.341341  \n",
      "17                            -0.665471  \n",
      "18                            -0.889207  \n",
      "19                             0.117605  \n",
      "20                            -0.497669  \n",
      "21                            -0.162065  \n",
      "22                            -0.833273  \n",
      "23                            -0.721405  \n",
      "24                             0.900681  \n",
      "25                            -0.665471  \n",
      "26                             0.621011  \n",
      "27                            -0.106131  \n",
      "28                            -0.777339  \n",
      "29                             0.229473  \n",
      "30                             0.061671  \n",
      "31                             0.509143  \n",
      "32                            -0.945141  \n",
      "33                            -0.945141  \n",
      "34                            -0.385801  \n",
      "35                             2.410899  \n",
      "36                            -0.441735  \n",
      "37                            -0.385801  \n",
      "38                             0.229473  \n"
     ]
    }
   ],
   "source": [
    "crime.columns = crime.columns.astype(str)\n",
    "\n",
    "numeric_columns = crime.select_dtypes(include=['float64', 'int64']).columns\n",
    "scaler = preprocessing.StandardScaler()\n",
    "data_scaled = crime.copy()  # Create a copy of the original data\n",
    "data_scaled[numeric_columns] = scaler.fit_transform(crime[numeric_columns])\n",
    "\n",
    "\n",
    "with pd.option_context('display.max_rows', None, 'display.max_columns', None):\n",
    "    print(data_scaled)"
   ]
  },
  {
   "attachments": {},
   "cell_type": "markdown",
   "metadata": {},
   "source": [
    "**Elbow method**"
   ]
  },
  {
   "cell_type": "code",
   "execution_count": 6,
   "metadata": {},
   "outputs": [
    {
     "name": "stderr",
     "output_type": "stream",
     "text": [
      "c:\\Users\\asus\\Anaconda3\\lib\\site-packages\\sklearn\\cluster\\_kmeans.py:1037: UserWarning: KMeans is known to have a memory leak on Windows with MKL, when there are less chunks than available threads. You can avoid it by setting the environment variable OMP_NUM_THREADS=1.\n",
      "  \"KMeans is known to have a memory leak on Windows \"\n"
     ]
    },
    {
     "data": {
      "image/png": "[encoded data removed]",
      "text/plain": [
       "<Figure size 720x576 with 1 Axes>"
      ]
     },
     "metadata": {
      "needs_background": "light"
     },
     "output_type": "display_data"
    },
    {
     "name": "stdout",
     "output_type": "stream",
     "text": [
      "kmeans\n"
     ]
    }
   ],
   "source": [
    "\n",
    "\n",
    "plt.figure(figsize=(10, 8))\n",
    "wcss = []\n",
    "for i in range(1, 11):\n",
    "      kmeans = KMeans(n_clusters=i, init='k-means++', random_state=23)\n",
    "      kmeans.fit(data_scaled[numeric_columns])\n",
    "      wcss.append(kmeans.inertia_) #criterion based on which K-means clustering works\n",
    "plt.plot(range(1, 11), wcss)\n",
    "plt.title('The Elbow Method')\n",
    "plt.xlabel('Number of clusters')\n",
    "plt.ylabel('WCSS')\n",
    "plt.show()\n",
    "\n",
    "\n",
    "print(\"kmeans\")"
   ]
  },
  {
   "cell_type": "code",
   "execution_count": 7,
   "metadata": {},
   "outputs": [
    {
     "data": {
      "text/plain": [
       "array([1, 3, 2, 3, 3, 1, 3, 3, 3, 3, 1, 2, 3, 3, 1, 3, 1, 3, 3, 1, 3, 1,\n",
       "       3, 3, 1, 3, 1, 3, 3, 0, 1, 1, 3, 3, 3, 2, 3, 3, 0])"
      ]
     },
     "execution_count": 7,
     "metadata": {},
     "output_type": "execute_result"
    }
   ],
   "source": [
    "numeric_columns = data_scaled.select_dtypes(include=['float64', 'int64']).columns\n",
    "kmeans = KMeans(n_clusters=4, init='k-means++', random_state=42)\n",
    "y_kmeans = kmeans.fit_predict(data_scaled[numeric_columns])\n",
    "\n",
    "y_kmeans\n"
   ]
  },
  {
   "cell_type": "code",
   "execution_count": 8,
   "metadata": {},
   "outputs": [],
   "source": [
    "y_kmeans1=y_kmeans+1\n",
    "\n",
    "# New list called cluster\n",
    "cluster = list(y_kmeans1)\n",
    "# Adding cluster to our data set\n",
    "crime['cluster'] = cluster"
   ]
  },
  {
   "attachments": {},
   "cell_type": "markdown",
   "metadata": {},
   "source": [
    "**Mean of Cluster**"
   ]
  },
  {
   "cell_type": "code",
   "execution_count": 9,
   "metadata": {},
   "outputs": [
    {
     "data": {
      "text/html": [
       "<div>\n",
       "<style scoped>\n",
       "    .dataframe tbody tr th:only-of-type {\n",
       "        vertical-align: middle;\n",
       "    }\n",
       "\n",
       "    .dataframe tbody tr th {\n",
       "        vertical-align: top;\n",
       "    }\n",
       "\n",
       "    .dataframe thead th {\n",
       "        text-align: right;\n",
       "    }\n",
       "</style>\n",
       "<table border=\"1\" class=\"dataframe\">\n",
       "  <thead>\n",
       "    <tr style=\"text-align: right;\">\n",
       "      <th></th>\n",
       "      <th>2016</th>\n",
       "      <th>2017</th>\n",
       "      <th>2018</th>\n",
       "      <th>Percentage Share of State/UT (2018)</th>\n",
       "      <th>Mid-Year Projected Population (in Lakhs) (2018)+</th>\n",
       "      <th>Rate of Total Cyber Crimes (2018)++</th>\n",
       "    </tr>\n",
       "    <tr>\n",
       "      <th>cluster</th>\n",
       "      <th></th>\n",
       "      <th></th>\n",
       "      <th></th>\n",
       "      <th></th>\n",
       "      <th></th>\n",
       "      <th></th>\n",
       "    </tr>\n",
       "  </thead>\n",
       "  <tbody>\n",
       "    <tr>\n",
       "      <th>1</th>\n",
       "      <td>12252.0</td>\n",
       "      <td>21694.5</td>\n",
       "      <td>27126.0</td>\n",
       "      <td>99.6</td>\n",
       "      <td>13115.8</td>\n",
       "      <td>2.1</td>\n",
       "    </tr>\n",
       "    <tr>\n",
       "      <th>2</th>\n",
       "      <td>713.1</td>\n",
       "      <td>1240.9</td>\n",
       "      <td>1383.6</td>\n",
       "      <td>5.1</td>\n",
       "      <td>542.7</td>\n",
       "      <td>2.3</td>\n",
       "    </tr>\n",
       "    <tr>\n",
       "      <th>3</th>\n",
       "      <td>599.0</td>\n",
       "      <td>1431.3</td>\n",
       "      <td>2621.7</td>\n",
       "      <td>9.6</td>\n",
       "      <td>331.9</td>\n",
       "      <td>6.9</td>\n",
       "    </tr>\n",
       "    <tr>\n",
       "      <th>4</th>\n",
       "      <td>122.0</td>\n",
       "      <td>176.3</td>\n",
       "      <td>191.6</td>\n",
       "      <td>0.7</td>\n",
       "      <td>282.8</td>\n",
       "      <td>0.7</td>\n",
       "    </tr>\n",
       "  </tbody>\n",
       "</table>\n",
       "</div>"
      ],
      "text/plain": [
       "            2016     2017     2018  Percentage Share of State/UT (2018)  \\\n",
       "cluster                                                                   \n",
       "1        12252.0  21694.5  27126.0                                 99.6   \n",
       "2          713.1   1240.9   1383.6                                  5.1   \n",
       "3          599.0   1431.3   2621.7                                  9.6   \n",
       "4          122.0    176.3    191.6                                  0.7   \n",
       "\n",
       "         Mid-Year Projected Population (in Lakhs) (2018)+  \\\n",
       "cluster                                                     \n",
       "1                                                 13115.8   \n",
       "2                                                   542.7   \n",
       "3                                                   331.9   \n",
       "4                                                   282.8   \n",
       "\n",
       "         Rate of Total Cyber Crimes (2018)++  \n",
       "cluster                                       \n",
       "1                                        2.1  \n",
       "2                                        2.3  \n",
       "3                                        6.9  \n",
       "4                                        0.7  "
      ]
     },
     "execution_count": 9,
     "metadata": {},
     "output_type": "execute_result"
    }
   ],
   "source": [
    "#Mean of clusters 1 to 4\n",
    "kmeans_mean_cluster = pd.DataFrame(round(crime.groupby('cluster').mean(),1))\n",
    "kmeans_mean_cluster"
   ]
  },
  {
   "cell_type": "code",
   "execution_count": 10,
   "metadata": {},
   "outputs": [
    {
     "data": {
      "text/plain": [
       "<matplotlib.axes._subplots.AxesSubplot at 0x1d1b8b30448>"
      ]
     },
     "execution_count": 10,
     "metadata": {},
     "output_type": "execute_result"
    },
    {
     "data": {
      "image/png": "[encoded data removed]",
      "text/plain": [
       "<Figure size 864x432 with 1 Axes>"
      ]
     },
     "metadata": {
      "needs_background": "light"
     },
     "output_type": "display_data"
    }
   ],
   "source": [
    "\n",
    "plt.figure(figsize=(12,6))\n",
    "sns.scatterplot(x=crime['2017'], y = crime['2018'],hue=y_kmeans1)"
   ]
  },
  {
   "attachments": {},
   "cell_type": "markdown",
   "metadata": {},
   "source": [
    "**Mean estimated Rate of Cyber Crimes 2018**"
   ]
  },
  {
   "cell_type": "code",
   "execution_count": 11,
   "metadata": {},
   "outputs": [
    {
     "data": {
      "image/png": "[encoded data removed]",
      "text/plain": [
       "<Figure size 864x576 with 1 Axes>"
      ]
     },
     "metadata": {
      "needs_background": "light"
     },
     "output_type": "display_data"
    }
   ],
   "source": [
    "ax = crime.groupby('Rate of Total Cyber Crimes (2018)++')['2018'].mean().plot(kind='barh', figsize=(12,8),\n",
    "title='Mean estimated Rate of Cyber Crimes 2018')\n",
    "plt.xlabel('Mean estimated Cyber Crimes 2018 ++')\n",
    "plt.ylabel('2018')\n",
    "plt.show()"
   ]
  },
  {
   "cell_type": "code",
   "execution_count": 12,
   "metadata": {},
   "outputs": [
    {
     "name": "stdout",
     "output_type": "stream",
     "text": [
      "WARNING *** OLE2 inconsistency: SSCS size is 0 but SSAT size is non-zero\n",
      "Dataset dimensions: (39, 9)\n",
      "Column names and data types:\n",
      "S. No                                                object\n",
      "Category                                             object\n",
      "State/UT                                             object\n",
      "2016                                                  int64\n",
      "2017                                                  int64\n",
      "2018                                                  int64\n",
      "Percentage Share of State/UT (2018)                 float64\n",
      "Mid-Year Projected Population (in Lakhs) (2018)+    float64\n",
      "Rate of Total Cyber Crimes (2018)++                 float64\n",
      "dtype: object\n",
      "Preview of the dataset:\n",
      "  S. No Category           State/UT  2016  2017  2018  \\\n",
      "0     1    State     Andhra Pradesh   616   931  1207   \n",
      "1     2    State  Arunachal Pradesh     4     1     7   \n",
      "2     3    State              Assam   696  1120  2022   \n",
      "3     4    State              Bihar   309   433   374   \n",
      "4     5    State       Chhattisgarh    90   171   139   \n",
      "\n",
      "   Percentage Share of State/UT (2018)  \\\n",
      "0                                  4.4   \n",
      "1                                  0.0   \n",
      "2                                  7.4   \n",
      "3                                  1.4   \n",
      "4                                  0.5   \n",
      "\n",
      "   Mid-Year Projected Population (in Lakhs) (2018)+  \\\n",
      "0                                             520.3   \n",
      "1                                              14.9   \n",
      "2                                             340.4   \n",
      "3                                            1183.3   \n",
      "4                                             284.7   \n",
      "\n",
      "   Rate of Total Cyber Crimes (2018)++  \n",
      "0                                  2.3  \n",
      "1                                  0.5  \n",
      "2                                  5.9  \n",
      "3                                  0.3  \n",
      "4                                  0.5  \n",
      "Number of cyber crime incidents by state:\n",
      "Andhra Pradesh       1\n",
      "Total State(s)       1\n",
      "Sikkim               1\n",
      "Tamil Nadu           1\n",
      "Telangana            1\n",
      "Tripura              1\n",
      "Uttar Pradesh        1\n",
      "Uttarakhand          1\n",
      "West Bengal          1\n",
      "A & N Islands        1\n",
      "Punjab               1\n",
      "Chandigarh           1\n",
      "D&N Haveli           1\n",
      "Daman & Diu          1\n",
      "Delhi UT             1\n",
      "Lakshadweep          1\n",
      "Puducherry           1\n",
      "Total UT(s)          1\n",
      "Rajasthan            1\n",
      "Odisha               1\n",
      "Arunachal Pradesh    1\n",
      "Jammu & Kashmir      1\n",
      "Assam                1\n",
      "Bihar                1\n",
      "Chhattisgarh         1\n",
      "Goa                  1\n",
      "Gujarat              1\n",
      "Haryana              1\n",
      "Himachal Pradesh     1\n",
      "Jharkhand            1\n",
      "Nagaland             1\n",
      "Karnataka            1\n",
      "Kerala               1\n",
      "Madhya Pradesh       1\n",
      "Maharashtra          1\n",
      "Manipur              1\n",
      "Meghalaya            1\n",
      "Mizoram              1\n",
      "Total (All India)    1\n",
      "Name: State/UT, dtype: int64\n",
      "Total number of cyber crime incidents: 65.9\n",
      "Average number of cyber crime incidents per state: 1.689743589743589\n",
      "State with the highest number of cyber crime incidents: Andhra Pradesh\n",
      "State with the lowest number of cyber crime incidents: Andhra Pradesh\n"
     ]
    }
   ],
   "source": [
    "import pandas as pd\n",
    "import matplotlib.pyplot as plt\n",
    "\n",
    "# Load the dataset\n",
    "df = pd.read_excel('CyberCrimeStateWise.xls')\n",
    "\n",
    "# Data Exploration\n",
    "print(\"Dataset dimensions:\", df.shape)\n",
    "print(\"Column names and data types:\")\n",
    "print(df.dtypes)\n",
    "print(\"Preview of the dataset:\")\n",
    "print(df.head())\n",
    "\n",
    "# Data Analysis\n",
    "# Distribution of cyber crime incidents across states\n",
    "state_counts = df['State/UT'].value_counts()\n",
    "print(\"Number of cyber crime incidents by state:\")\n",
    "print(state_counts)\n",
    "\n",
    "# Summary statistics\n",
    "total_incidents = df['Rate of Total Cyber Crimes (2018)++'].sum()\n",
    "average_incidents = df['Rate of Total Cyber Crimes (2018)++'].mean()\n",
    "print(\"Total number of cyber crime incidents:\", total_incidents)\n",
    "print(\"Average number of cyber crime incidents per state:\", average_incidents)\n",
    "\n",
    "# States with the highest and lowest number of cyber crime incidents\n",
    "state_with_most_incidents = state_counts.idxmax()\n",
    "state_with_least_incidents = state_counts.idxmin()\n",
    "print(\"State with the highest number of cyber crime incidents:\", state_with_most_incidents)\n",
    "print(\"State with the lowest number of cyber crime incidents:\", state_with_least_incidents)\n",
    "\n"
   ]
  }
 ],
 "metadata": {
  "kernelspec": {
   "display_name": "base",
   "language": "python",
   "name": "python3"
  },
  "language_info": {
   "codemirror_mode": {
    "name": "ipython",
    "version": 3
   },
   "file_extension": ".py",
   "mimetype": "text/x-python",
   "name": "python",
   "nbconvert_exporter": "python",
   "pygments_lexer": "ipython3",
   "version": "3.7.4"
  },
  "orig_nbformat": 4
 },
 "nbformat": 4,
 "nbformat_minor": 2
}
